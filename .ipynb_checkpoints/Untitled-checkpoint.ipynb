{
 "cells": [
  {
   "cell_type": "code",
   "execution_count": 1,
   "id": "79e66a71-9c81-4b56-b4d7-f7117431a6f8",
   "metadata": {},
   "outputs": [],
   "source": [
    "import ipyvuetify as v\n",
    "import ipywidgets as w\n",
    "from IPython.display import Markdown, Latex, HTML, clear_output"
   ]
  },
  {
   "cell_type": "code",
   "execution_count": null,
   "id": "f7dc3d53",
   "metadata": {},
   "outputs": [],
   "source": [
    "b = 3\n",
    "d = 2\n",
    "s1 = r'$$y = x\\sqrt{' + str(b)+'x^2 + '+ str(d) + ' }$$'"
   ]
  },
  {
   "cell_type": "markdown",
   "id": "424a4223",
   "metadata": {},
   "source": [
    "# Try It Yourself"
   ]
  },
  {
   "cell_type": "markdown",
   "id": "e723f948",
   "metadata": {},
   "source": [
    "## Exercise 1\n",
    "\n",
    "Find an equation for the tangent line to the curve "
   ]
  },
  {
   "cell_type": "code",
   "execution_count": null,
   "id": "897b5ebc",
   "metadata": {},
   "outputs": [],
   "source": [
    "Markdown(s1)"
   ]
  },
  {
   "cell_type": "markdown",
   "id": "b0d81c75",
   "metadata": {},
   "source": [
    "at the point $(0,1)$."
   ]
  },
  {
   "cell_type": "code",
   "execution_count": null,
   "id": "99ad12f7",
   "metadata": {},
   "outputs": [],
   "source": [
    "Latex('There are $15$ points.')"
   ]
  },
  {
   "cell_type": "code",
   "execution_count": null,
   "id": "22e1f486",
   "metadata": {},
   "outputs": [],
   "source": [
    "ow = w.Output()\n",
    "\n",
    "sol = w.HTMLMath(\n",
    "    value=r\"The solution is <i>this</i>: \\(x^2\\) and $$\\frac{x+1}{x-1}$$\")\n",
    "\n",
    "with ow:\n",
    "    display(sol)\n",
    "    \n",
    "    \n",
    "solution = v.ExpansionPanel(children=[\n",
    "    v.ExpansionPanelHeader(children=['Show Solution']),\n",
    "    v.ExpansionPanelContent(children=[ow])])\n",
    "\n",
    "vep = v.ExpansionPanels(children=[solution])\n",
    "vl = v.Layout(class_='pa-4', children=[vep])\n",
    "vl\n",
    "\n"
   ]
  },
  {
   "cell_type": "code",
   "execution_count": null,
   "id": "27eb8576",
   "metadata": {
    "scrolled": true
   },
   "outputs": [],
   "source": [
    "btn = v.Btn(color='primary', children=['New!'])\n",
    "count = 0\n",
    "\n",
    "# def on_click(widget, event, data):\n",
    "#     global count\n",
    "#     btn.children=[f'Click me {count}']\n",
    "#     count += 1\n",
    "\n",
    "def on_click(widget, event, data):\n",
    "\n",
    "    global ow, solution, count\n",
    "    \n",
    "    count += 1\n",
    "    \n",
    "    sol = w.HTMLMath(\n",
    "        value=r\"The solution is <i>that</i>: \\(x^2+\" + str(count) + r\"\\) and $$\\frac{x+1}{x-1}$$\")\n",
    "\n",
    "    with ow:\n",
    "        clear_output()\n",
    "        display(sol)\n",
    "\n",
    "    solution = v.ExpansionPanel(children=[\n",
    "        v.ExpansionPanelHeader(children=['Show Solution']),\n",
    "        v.ExpansionPanelContent(children=[ow])])\n",
    "    \n",
    "\n",
    "btn.on_event('click', on_click)\n",
    "\n",
    "v.Container(children=[\n",
    "    btn\n",
    "])\n",
    "\n"
   ]
  },
  {
   "cell_type": "code",
   "execution_count": 10,
   "id": "6c5f4a3d",
   "metadata": {},
   "outputs": [
    {
     "data": {
      "text/html": [
       "<style>.large_label { font-size: 120% }</style>"
      ],
      "text/plain": [
       "<IPython.core.display.HTML object>"
      ]
     },
     "metadata": {},
     "output_type": "display_data"
    },
    {
     "data": {
      "application/vnd.jupyter.widget-view+json": {
       "model_id": "5709c668279a4cad966186359934400b",
       "version_major": 2,
       "version_minor": 0
      },
      "text/plain": [
       "Output()"
      ]
     },
     "metadata": {},
     "output_type": "display_data"
    },
    {
     "data": {
      "application/vnd.jupyter.widget-view+json": {
       "model_id": "ef70b5a487dc4ee9a0b042df8691653f",
       "version_major": 2,
       "version_minor": 0
      },
      "text/plain": [
       "Container(children=[RadioGroup(children=[Radio(v_slots=[{'name': 'label', 'children': [Label(value='This is $x…"
      ]
     },
     "metadata": {},
     "output_type": "display_data"
    }
   ],
   "source": [
    "display(HTML(\"<style>.large_label { font-size: 120% }</style>\"))\n",
    "LA = w.Label(value=\"This is $x^2$.\")\n",
    "LA.add_class(\"large_label\")\n",
    "LB = w.HTMLMath(\n",
    "    value=r\"Some math and <i>HTML</i>: \\(x^2\\) and $$\\frac{x+1}{x-1}$$\")\n",
    "\n",
    "rbut =     v.RadioGroup(\n",
    "            v_model=None,\n",
    "            children=[\n",
    "                v.Radio(v_slots=[{\n",
    "                    'name': 'label',\n",
    "                    'children': [LA]\n",
    "                        }]),\n",
    "                v.Radio(label='YY'),\n",
    "                v.Radio(label='ZZ'),\n",
    "                    ]\n",
    "            )    \n",
    "\n",
    "answer_but = v.Btn(color='primary', children=['Check Answer'])\n",
    "\n",
    "con = v.Container(children=[rbut, \n",
    "                            answer_but\n",
    "                           ])\n",
    "\n",
    "out = w.Output()\n",
    "\n",
    "def on_click_submit(widget, event, data):\n",
    "    global rbut\n",
    "    with out:\n",
    "#         print(\"Active radio label is\", widget.children[widget.v_model].label)\n",
    "        print(\"Active radio label is\", data)\n",
    "\n",
    "        \n",
    "display(out)\n",
    "\n",
    "answer_but.on_event(\"click\",on_click_submit)\n",
    "\n",
    "con"
   ]
  },
  {
   "cell_type": "code",
   "execution_count": 18,
   "id": "adb998a1",
   "metadata": {},
   "outputs": [
    {
     "ename": "AttributeError",
     "evalue": "'RadioGroup' object has no attribute '__vars__'",
     "output_type": "error",
     "traceback": [
      "\u001b[0;31m---------------------------------------------------------------------------\u001b[0m",
      "\u001b[0;31mAttributeError\u001b[0m                            Traceback (most recent call last)",
      "\u001b[0;32m<ipython-input-18-a20b1624543e>\u001b[0m in \u001b[0;36m<module>\u001b[0;34m\u001b[0m\n\u001b[0;32m----> 1\u001b[0;31m \u001b[0mrbut\u001b[0m\u001b[0;34m.\u001b[0m\u001b[0m__vars__\u001b[0m\u001b[0;34m\u001b[0m\u001b[0;34m\u001b[0m\u001b[0m\n\u001b[0m",
      "\u001b[0;31mAttributeError\u001b[0m: 'RadioGroup' object has no attribute '__vars__'"
     ]
    }
   ],
   "source": [
    "rbut.__vars__"
   ]
  },
  {
   "cell_type": "code",
   "execution_count": null,
   "id": "5dd261f6",
   "metadata": {},
   "outputs": [],
   "source": [
    "w.RadioButtons(\n",
    "    options=['$x^2$', 'pineapple', 'anchovies'],\n",
    "#    value='pineapple', # Defaults to 'pineapple'\n",
    "#     layout={'width': 'max-content'}, # If the items' names are long\n",
    "    description='Pizza topping:',\n",
    "    disabled=False,\n",
    "    layout=w.Layout(width='50%', height='80px')\n",
    ")"
   ]
  },
  {
   "cell_type": "code",
   "execution_count": null,
   "id": "c552e732",
   "metadata": {},
   "outputs": [],
   "source": [
    "b = w.Button(description='(50% width, 80px height) button',\n",
    "           layout=w.Layout(width='50%', height='80px'))\n",
    "b\n"
   ]
  },
  {
   "cell_type": "code",
   "execution_count": null,
   "id": "ea49c606",
   "metadata": {},
   "outputs": [],
   "source": [
    "v.Select(v_slots=[{\n",
    "    'name': 'no-data',\n",
    "    'children': [\n",
    "        v.ListItem(children=[\n",
    "            v.ListItemTitle(children=['My custom no data message'])])]\n",
    "}])"
   ]
  },
  {
   "cell_type": "code",
   "execution_count": null,
   "id": "c9fd1f34",
   "metadata": {},
   "outputs": [],
   "source": [
    "display(HTML(\"<style>.red_label { font-size: 130% }</style>\"))\n",
    "l = w.Label(value=\"My Label\")\n",
    "l.add_class(\"red_label\")\n",
    "display(l)\n"
   ]
  },
  {
   "cell_type": "code",
   "execution_count": 2,
   "id": "42a95ad4",
   "metadata": {},
   "outputs": [
    {
     "data": {
      "application/vnd.jupyter.widget-view+json": {
       "model_id": "fe6044acdc97418095f5e10cb333a651",
       "version_major": 2,
       "version_minor": 0
      },
      "text/plain": [
       "RadioGroup(children=[Radio(label='XX'), Radio(label='YY'), Radio(label='ZZ')], v_model=None)"
      ]
     },
     "metadata": {},
     "output_type": "display_data"
    },
    {
     "name": "stdout",
     "output_type": "stream",
     "text": [
      "Active radio label is XX\n",
      "Active radio label is YY\n",
      "Active radio label is ZZ\n"
     ]
    }
   ],
   "source": [
    "import ipyvuetify as vue\n",
    "parts =vue.RadioGroup(\n",
    "            v_model=None,\n",
    "            children=[\n",
    "                 vue.Radio(label='XX'),\n",
    "                 vue.Radio(label='YY'),\n",
    "                 vue.Radio(label='ZZ'),\n",
    "                    ])\n",
    "\n",
    "def on_click_radio(widget, event, data):\n",
    "    print(\"Active radio label is\", widget.children[widget.v_model].label)\n",
    "        \n",
    "parts.on_event(\"change\",on_click_radio)\n",
    "\n",
    "parts"
   ]
  },
  {
   "cell_type": "code",
   "execution_count": null,
   "id": "c9906adb",
   "metadata": {},
   "outputs": [],
   "source": []
  }
 ],
 "metadata": {
  "hide_input": false,
  "kernelspec": {
   "display_name": "Python 3",
   "language": "python",
   "name": "python3"
  },
  "language_info": {
   "codemirror_mode": {
    "name": "ipython",
    "version": 3
   },
   "file_extension": ".py",
   "mimetype": "text/x-python",
   "name": "python",
   "nbconvert_exporter": "python",
   "pygments_lexer": "ipython3",
   "version": "3.9.4"
  }
 },
 "nbformat": 4,
 "nbformat_minor": 5
}
