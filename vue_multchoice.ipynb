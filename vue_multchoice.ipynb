{
 "cells": [
  {
   "cell_type": "code",
   "execution_count": 29,
   "id": "e3d46ee9",
   "metadata": {},
   "outputs": [],
   "source": [
    "from chaldene.quiz import *\n",
    "from cyllene import *\n",
    "import random as rd"
   ]
  },
  {
   "cell_type": "code",
   "execution_count": 40,
   "id": "9676972e",
   "metadata": {},
   "outputs": [],
   "source": [
    "a = rd.randint(2,4)\n",
    "aa = a*a\n",
    "b = rd.randint(2,4)\n",
    "bb = b*a*a\n",
    "while True:\n",
    "    c = rd.randint(2,7)\n",
    "    if (c - sp.sqrt(b*aa)) != 0:\n",
    "        break\n",
    "cc = c*c\n",
    "d = abs(c*c - b*a*a)\n",
    "sign = 1\n",
    "if (c*c - b*a*a) < 0:\n",
    "    sign = -1\n",
    "e = a*c\n",
    "slope = sp.Rational(cc+bb, c)\n",
    "err = [0]\n",
    "err.extend(rd.sample([-4,-3,-2,-1,1,2,3,4,5], 4))"
   ]
  },
  {
   "cell_type": "code",
   "execution_count": 41,
   "id": "abbf873a",
   "metadata": {},
   "outputs": [],
   "source": [
    "f = function(x*sp.sqrt(b*(x**2) +sign*d))"
   ]
  },
  {
   "cell_type": "code",
   "execution_count": 42,
   "id": "0d6b3e31",
   "metadata": {},
   "outputs": [],
   "source": [
    "statement = \"Find an equation for the tangent line to the curve $${}$$ at the point $$({},{})$$\".format(sp.latex(f(x)), a,e)"
   ]
  },
  {
   "cell_type": "code",
   "execution_count": 43,
   "id": "112a8718",
   "metadata": {},
   "outputs": [],
   "source": [
    "choices = [\n",
    "    \"$y - {} = {}(x - {})$\".format(e, sp.latex(slope+err[i]), a) for i in range(5)]"
   ]
  },
  {
   "cell_type": "code",
   "execution_count": 44,
   "id": "a51140c8",
   "metadata": {},
   "outputs": [
    {
     "data": {
      "text/html": [
       "<style>.large_font { font-size: 110% }</style>"
      ],
      "text/plain": [
       "<IPython.core.display.HTML object>"
      ]
     },
     "metadata": {},
     "output_type": "display_data"
    },
    {
     "data": {
      "text/html": [
       "<style>.xlarge_font { font-size: 120% }</style>"
      ],
      "text/plain": [
       "<IPython.core.display.HTML object>"
      ]
     },
     "metadata": {},
     "output_type": "display_data"
    }
   ],
   "source": [
    "P = MultChoice(statement, choices)"
   ]
  },
  {
   "cell_type": "code",
   "execution_count": 45,
   "id": "87b7d894",
   "metadata": {},
   "outputs": [
    {
     "data": {
      "application/vnd.jupyter.widget-view+json": {
       "model_id": "26917897b7a14a2e9cb24c2fdfee73e2",
       "version_major": 2,
       "version_minor": 0
      },
      "text/plain": [
       "HTMLMath(value='Find an equation for the tangent line to the curve $$x \\\\sqrt{\\\\left(2 x^{2} + 18 \\\\right)}$$ …"
      ]
     },
     "metadata": {},
     "output_type": "display_data"
    },
    {
     "data": {
      "application/vnd.jupyter.widget-view+json": {
       "model_id": "24782c3518224fd99d735d2e0f6ce159",
       "version_major": 2,
       "version_minor": 0
      },
      "text/plain": [
       "Container(children=[RadioGroup(children=[Radio(v_slots=[{'name': 'label', 'children': [Label(value='$y - 18 = …"
      ]
     },
     "metadata": {},
     "output_type": "display_data"
    },
    {
     "data": {
      "application/vnd.jupyter.widget-view+json": {
       "model_id": "202aa0d72ab548908670c43e35cf75df",
       "version_major": 2,
       "version_minor": 0
      },
      "text/plain": [
       "Output()"
      ]
     },
     "metadata": {},
     "output_type": "display_data"
    }
   ],
   "source": [
    "P.show_problem()"
   ]
  }
 ],
 "metadata": {
  "hide_input": false,
  "kernelspec": {
   "display_name": "Python 3",
   "language": "python",
   "name": "python3"
  },
  "language_info": {
   "codemirror_mode": {
    "name": "ipython",
    "version": 3
   },
   "file_extension": ".py",
   "mimetype": "text/x-python",
   "name": "python",
   "nbconvert_exporter": "python",
   "pygments_lexer": "ipython3",
   "version": "3.9.4"
  }
 },
 "nbformat": 4,
 "nbformat_minor": 5
}
